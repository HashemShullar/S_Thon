{
 "cells": [
  {
   "cell_type": "code",
   "execution_count": 1,
   "id": "53154d8b",
   "metadata": {},
   "outputs": [],
   "source": [
    "import os\n",
    "import cv2"
   ]
  },
  {
   "cell_type": "code",
   "execution_count": 5,
   "id": "b6785e6d",
   "metadata": {},
   "outputs": [],
   "source": [
    "# fold directory in which the images are \n",
    "folder_directory = 'C:/Users/anash/Desktop/Smartathon/YoloV6/custom_dataset graffiti/images/train/'"
   ]
  },
  {
   "cell_type": "code",
   "execution_count": 6,
   "id": "6683a473",
   "metadata": {},
   "outputs": [],
   "source": [
    "# place the directory where the images are\n",
    "os.chdir(folder_directory)"
   ]
  },
  {
   "cell_type": "code",
   "execution_count": 7,
   "id": "229cf6f9",
   "metadata": {},
   "outputs": [],
   "source": [
    "for i, filename in enumerate(os.listdir(folder_directory)):\n",
    "    img = cv2.imread(filename)\n",
    "    img = cv2.resize(img,(640,640))\n",
    "    cv2.imwrite(filename,img)"
   ]
  },
  {
   "cell_type": "code",
   "execution_count": 5,
   "id": "ee6f73f4",
   "metadata": {},
   "outputs": [],
   "source": []
  },
  {
   "cell_type": "code",
   "execution_count": null,
   "id": "0da8029d",
   "metadata": {},
   "outputs": [],
   "source": []
  }
 ],
 "metadata": {
  "kernelspec": {
   "display_name": "Python 3",
   "language": "python",
   "name": "python3"
  },
  "language_info": {
   "codemirror_mode": {
    "name": "ipython",
    "version": 3
   },
   "file_extension": ".py",
   "mimetype": "text/x-python",
   "name": "python",
   "nbconvert_exporter": "python",
   "pygments_lexer": "ipython3",
   "version": "3.7.0"
  }
 },
 "nbformat": 4,
 "nbformat_minor": 5
}
