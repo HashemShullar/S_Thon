{
 "cells": [
  {
   "cell_type": "markdown",
   "id": "b6d61999",
   "metadata": {},
   "source": [
    "# Convert excel points to Yolo annotation form"
   ]
  },
  {
   "cell_type": "code",
   "execution_count": 2,
   "id": "4f273f66",
   "metadata": {},
   "outputs": [],
   "source": [
    "import os\n",
    "import csv\n",
    "import shutil\n",
    "from os import listdir"
   ]
  },
  {
   "cell_type": "code",
   "execution_count": 2,
   "id": "85e442a0",
   "metadata": {},
   "outputs": [],
   "source": [
    "# Upload training images name from \"train.csv\"\n",
    "train_image_name = []\n",
    "with open('./dataset/dataset/train.csv','r')as file:\n",
    "    filecontent= csv.reader(file)\n",
    "    for row in filecontent:\n",
    "        train_image_name.append(row)"
   ]
  },
  {
   "cell_type": "code",
   "execution_count": null,
   "id": "0d35da75",
   "metadata": {},
   "outputs": [],
   "source": [
    "os.chdir('C:/Users/anash/Desktop/Smartathon/YoloV6/Yolov6 - Copy/custom_dataset/labels/BadBillboard/')"
   ]
  },
  {
   "cell_type": "code",
   "execution_count": null,
   "id": "0c9fa115",
   "metadata": {},
   "outputs": [],
   "source": [
    "W = 960\n",
    "H = 540\n",
    "RRW = 1280/960\n",
    "RRH = 1280/540\n",
    "for i in range(len(train_image_name[1::])):\n",
    "    xmax, xmin = int(float(train_image_name[i+1][3]))*RRW, int(float(train_image_name[i+1][4]))*RRW\n",
    "    ymax, ymin = int(float(train_image_name[i+1][5]))*RRH, int(float(train_image_name[i+1][6]))*RRH\n",
    "    if xmin < 0:\n",
    "        xmin = 0\n",
    "    if ymin < 0:\n",
    "        ymin = 0\n",
    "    if xmax > 1280:\n",
    "        xmax = 1280\n",
    "    if ymax > 1280:\n",
    "        ymax = 1280\n",
    "    width = xmax - xmin\n",
    "    height = ymax - ymin\n",
    "    xcenter = xmin + width/2\n",
    "    ycenter = ymin + height/2\n",
    "    \n",
    "    name = train_image_name[i+1][1].replace('.jpg', '')\n",
    "    \n",
    "    file = open(str(name) + \".txt\", \"a\") # append mode\n",
    "    file.write(str(int(float(train_image_name[i+1][0])))+\" \")\n",
    "    file.write(str(xcenter/1280)+\" \")\n",
    "    file.write(str(ycenter/1280)+\" \")\n",
    "    file.write(str(width/1280)+\" \")\n",
    "    file.write(str(height/1280))\n",
    "    file.write('\\n')\n",
    "    file.close()"
   ]
  },
  {
   "cell_type": "code",
   "execution_count": null,
   "id": "0f8bc2f6",
   "metadata": {},
   "outputs": [],
   "source": [
    "import os\n",
    "import glob\n",
    "import shutil\n",
    "source_dir = 'C:/Users/anash/Desktop/Smartathon/YoloV6/custom_dataset graffiti/labels/graffiti/'\n",
    "label_dir = 'C:/Users/anash/Desktop/Smartathon/YoloV6/custom_dataset graffiti/labels/'\n",
    "image_dir = 'C:/Users/anash/Desktop/Smartathon/YoloV6/custom_dataset graffiti/images/'\n",
    "os.chdir(source_dir)\n",
    "txt = glob.glob(r'*.txt')\n",
    "for i in range(len(txt)):\n",
    "    name = os.path.splitext(os.path.basename(txt[i]))[0]\n",
    "    if os.path.exists(image_dir + 'train/' + name + '.jpg'):\n",
    "        shutil.copy(source_dir + name + '.txt', label_dir + 'train/' + name + '.txt')\n",
    "    if os.path.exists(image_dir + 'val/' + name + '.jpg'):\n",
    "        shutil.copy(source_dir + name + '.txt', label_dir + 'val/' + name + '.txt')"
   ]
  },
  {
   "cell_type": "code",
   "execution_count": null,
   "id": "b40a540e",
   "metadata": {},
   "outputs": [],
   "source": []
  },
  {
   "cell_type": "code",
   "execution_count": 3,
   "id": "0ac1fa55",
   "metadata": {},
   "outputs": [],
   "source": [
    "# Upload training images name from \"train.csv\"\n",
    "train_image_name = []\n",
    "with open('./dataset/dataset/test.csv','r')as file:\n",
    "    filecontent= csv.reader(file)\n",
    "    for row in filecontent:\n",
    "        train_image_name.append(row)\n",
    "test_image = train_image_name[1::]"
   ]
  },
  {
   "cell_type": "code",
   "execution_count": 4,
   "id": "798ec172",
   "metadata": {},
   "outputs": [],
   "source": [
    "# Upload training images name from \"train.csv\"\n",
    "train_image = []\n",
    "with open('visual-pollution-detection-4-6c786e7d-c6ca863..csv','r') as file:\n",
    "    filecontent= csv.reader(file)\n",
    "    for row in filecontent:\n",
    "        train_image.append(row)\n",
    "train_image = train_image[1::]"
   ]
  },
  {
   "cell_type": "code",
   "execution_count": 5,
   "id": "06fe464d",
   "metadata": {
    "scrolled": true
   },
   "outputs": [
    {
     "name": "stdout",
     "output_type": "stream",
     "text": [
      "87275e41608b3bb8e1f2b44b3c76a0de.jpg\n",
      "f917a56dc035cc3fbef2acefc86cf260.jpg\n",
      "deab9f5181a1a511df4346f1c0dacb0c.jpg\n",
      "95ab783c0e3afe9a9db86bdd7406eca1.jpg\n",
      "ecad60aba58bc12188b1f3b9a3cb23ec.jpg\n",
      "cbc05387bb7695ba8b791dd2d476b4bf.jpg\n"
     ]
    }
   ],
   "source": [
    "for i in range(len(test_image)):\n",
    "    for j in range(len(train_image)):\n",
    "        if test_image[i][0] == train_image[j][1]:\n",
    "            break\n",
    "        if j == len(train_image) - 1:\n",
    "            print(test_image[i][0])    "
   ]
  },
  {
   "cell_type": "code",
   "execution_count": null,
   "id": "a9a39c0e",
   "metadata": {},
   "outputs": [],
   "source": []
  },
  {
   "cell_type": "code",
   "execution_count": null,
   "id": "18070cd7",
   "metadata": {},
   "outputs": [],
   "source": []
  },
  {
   "cell_type": "code",
   "execution_count": null,
   "id": "e6081444",
   "metadata": {
    "scrolled": false
   },
   "outputs": [],
   "source": [
    "train_image[1][1]"
   ]
  },
  {
   "cell_type": "code",
   "execution_count": null,
   "id": "fb6535c3",
   "metadata": {},
   "outputs": [],
   "source": [
    "train_image[1]"
   ]
  },
  {
   "cell_type": "code",
   "execution_count": null,
   "id": "a012f525",
   "metadata": {},
   "outputs": [],
   "source": [
    "train_image[j][1]"
   ]
  },
  {
   "cell_type": "code",
   "execution_count": null,
   "id": "5f368ada",
   "metadata": {},
   "outputs": [],
   "source": [
    "# get the path/directory\n",
    "count = []\n",
    "count = 0\n",
    "folder_dir = \"C:/Users/anash/Desktop/Smartathon/YoloV6/Yolov6_co/custom_dataset/images/\"\n",
    "label_dir = \"C:/Users/anash/Desktop/Smartathon/YoloV6/Yolov6_co/custom_dataset/labels/\"\n",
    "for image in os.listdir(folder_dir+'val'):\n",
    "    if os.path.exists(folder_dir+'train/'+image):\n",
    "        os.remove(folder_dir + 'val/' + image)\n",
    "        os.remove(label_dir + 'val/' + image[:-4] + '.txt')"
   ]
  },
  {
   "cell_type": "code",
   "execution_count": null,
   "id": "470b40ca",
   "metadata": {},
   "outputs": [],
   "source": [
    "image[:-4]"
   ]
  },
  {
   "cell_type": "code",
   "execution_count": null,
   "id": "4d6f58de",
   "metadata": {},
   "outputs": [],
   "source": [
    "os.path.basename(image)"
   ]
  },
  {
   "cell_type": "code",
   "execution_count": null,
   "id": "cd3730cc",
   "metadata": {},
   "outputs": [],
   "source": []
  }
 ],
 "metadata": {
  "kernelspec": {
   "display_name": "Python 3",
   "language": "python",
   "name": "python3"
  },
  "language_info": {
   "codemirror_mode": {
    "name": "ipython",
    "version": 3
   },
   "file_extension": ".py",
   "mimetype": "text/x-python",
   "name": "python",
   "nbconvert_exporter": "python",
   "pygments_lexer": "ipython3",
   "version": "3.7.0"
  }
 },
 "nbformat": 4,
 "nbformat_minor": 5
}
