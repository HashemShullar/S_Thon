{
 "cells": [
  {
   "cell_type": "markdown",
   "id": "25fd2f3a",
   "metadata": {},
   "source": [
    "# Code to split train images into their associated class folder"
   ]
  },
  {
   "cell_type": "code",
   "execution_count": 38,
   "id": "6a9a7a6a",
   "metadata": {},
   "outputs": [],
   "source": [
    "import os\n",
    "import csv\n",
    "import shutil\n",
    "import pandas as pd\n",
    "from os import listdir"
   ]
  },
  {
   "cell_type": "code",
   "execution_count": 39,
   "id": "391c0910",
   "metadata": {},
   "outputs": [],
   "source": [
    "# define classes\n",
    "class_name = ['BAD_BILLBOARD', 'BAD_STREETLIGHT', 'BROKEN_SIGNAGE', 'CLUTTER_SIDEWALK',\n",
    "              'CONSTRUCTION_ROAD', 'FADED_SIGNAGE', 'GARBAGE', 'GRAFFITI', 'POTHOLES', \n",
    "              'SAND_ON_ROAD', 'UNKEPT_FACADE']"
   ]
  },
  {
   "cell_type": "code",
   "execution_count": 40,
   "id": "26f87637",
   "metadata": {},
   "outputs": [],
   "source": [
    "# Upload training image information from \"train.csv\"\n",
    "train_image_info = []\n",
    "with open('./dataset/dataset/train.csv','r')as file:\n",
    "    filecontent= csv.reader(file)\n",
    "    for row in filecontent:\n",
    "        train_image_info.append(row)"
   ]
  },
  {
   "cell_type": "code",
   "execution_count": 41,
   "id": "6af70659",
   "metadata": {},
   "outputs": [],
   "source": [
    "# copy image into its assocciated class name folder\n",
    "for i in range (len(train_image_info)):\n",
    "    for j in range (len(class_name)):\n",
    "        if train_image_info[i][2] == class_name[j]:\n",
    "            shutil.copy(\"./dataset/dataset/images/\"+str(train_image_info[i][1]), \"./dataset/dataset/images/train/\"+ class_name[j] + \"/\" +str(train_image_info[i][1]))"
   ]
  }
 ],
 "metadata": {
  "kernelspec": {
   "display_name": "Python 3",
   "language": "python",
   "name": "python3"
  },
  "language_info": {
   "codemirror_mode": {
    "name": "ipython",
    "version": 3
   },
   "file_extension": ".py",
   "mimetype": "text/x-python",
   "name": "python",
   "nbconvert_exporter": "python",
   "pygments_lexer": "ipython3",
   "version": "3.7.0"
  }
 },
 "nbformat": 4,
 "nbformat_minor": 5
}
